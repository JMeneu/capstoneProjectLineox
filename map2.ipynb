{
 "cells": [
  {
   "cell_type": "code",
   "execution_count": 1,
   "metadata": {},
   "outputs": [],
   "source": [
    "import folium"
   ]
  },
  {
   "cell_type": "code",
   "execution_count": 5,
   "metadata": {},
   "outputs": [
    {
     "data": {
      "text/html": [
       "<div>\n",
       "<style scoped>\n",
       "    .dataframe tbody tr th:only-of-type {\n",
       "        vertical-align: middle;\n",
       "    }\n",
       "\n",
       "    .dataframe tbody tr th {\n",
       "        vertical-align: top;\n",
       "    }\n",
       "\n",
       "    .dataframe thead th {\n",
       "        text-align: right;\n",
       "    }\n",
       "</style>\n",
       "<table border=\"1\" class=\"dataframe\">\n",
       "  <thead>\n",
       "    <tr style=\"text-align: right;\">\n",
       "      <th></th>\n",
       "      <th>Comunidad</th>\n",
       "      <th>Provincia</th>\n",
       "      <th>Población</th>\n",
       "      <th>Latitud</th>\n",
       "      <th>Longitud</th>\n",
       "    </tr>\n",
       "  </thead>\n",
       "  <tbody>\n",
       "    <tr>\n",
       "      <th>0</th>\n",
       "      <td>Andalucía</td>\n",
       "      <td>Almería</td>\n",
       "      <td>Abla</td>\n",
       "      <td>37.14114</td>\n",
       "      <td>-2.780104</td>\n",
       "    </tr>\n",
       "    <tr>\n",
       "      <th>1</th>\n",
       "      <td>Andalucía</td>\n",
       "      <td>Almería</td>\n",
       "      <td>Abrucena</td>\n",
       "      <td>37.13305</td>\n",
       "      <td>-2.797098</td>\n",
       "    </tr>\n",
       "    <tr>\n",
       "      <th>2</th>\n",
       "      <td>Andalucía</td>\n",
       "      <td>Almería</td>\n",
       "      <td>Adra</td>\n",
       "      <td>36.74807</td>\n",
       "      <td>-3.022522</td>\n",
       "    </tr>\n",
       "    <tr>\n",
       "      <th>3</th>\n",
       "      <td>Andalucía</td>\n",
       "      <td>Almería</td>\n",
       "      <td>Albánchez</td>\n",
       "      <td>37.28710</td>\n",
       "      <td>-2.181163</td>\n",
       "    </tr>\n",
       "    <tr>\n",
       "      <th>4</th>\n",
       "      <td>Andalucía</td>\n",
       "      <td>Almería</td>\n",
       "      <td>Alboloduy</td>\n",
       "      <td>37.03319</td>\n",
       "      <td>-2.621750</td>\n",
       "    </tr>\n",
       "    <tr>\n",
       "      <th>...</th>\n",
       "      <td>...</td>\n",
       "      <td>...</td>\n",
       "      <td>...</td>\n",
       "      <td>...</td>\n",
       "      <td>...</td>\n",
       "    </tr>\n",
       "    <tr>\n",
       "      <th>8107</th>\n",
       "      <td>Valencia</td>\n",
       "      <td>Valencia/València</td>\n",
       "      <td>Xeresa</td>\n",
       "      <td>39.00910</td>\n",
       "      <td>-0.217992</td>\n",
       "    </tr>\n",
       "    <tr>\n",
       "      <th>8108</th>\n",
       "      <td>Valencia</td>\n",
       "      <td>Valencia/València</td>\n",
       "      <td>Xirivella</td>\n",
       "      <td>39.46669</td>\n",
       "      <td>-0.427794</td>\n",
       "    </tr>\n",
       "    <tr>\n",
       "      <th>8109</th>\n",
       "      <td>Valencia</td>\n",
       "      <td>Valencia/València</td>\n",
       "      <td>Yátova</td>\n",
       "      <td>39.38500</td>\n",
       "      <td>-0.808174</td>\n",
       "    </tr>\n",
       "    <tr>\n",
       "      <th>8110</th>\n",
       "      <td>Valencia</td>\n",
       "      <td>Valencia/València</td>\n",
       "      <td>Yesa (La)</td>\n",
       "      <td>39.49916</td>\n",
       "      <td>-0.426125</td>\n",
       "    </tr>\n",
       "    <tr>\n",
       "      <th>8111</th>\n",
       "      <td>Valencia</td>\n",
       "      <td>Valencia/València</td>\n",
       "      <td>Zarra</td>\n",
       "      <td>39.09138</td>\n",
       "      <td>-1.075068</td>\n",
       "    </tr>\n",
       "  </tbody>\n",
       "</table>\n",
       "<p>8112 rows × 5 columns</p>\n",
       "</div>"
      ],
      "text/plain": [
       "      Comunidad          Provincia  Población   Latitud  Longitud\n",
       "0     Andalucía            Almería       Abla  37.14114 -2.780104\n",
       "1     Andalucía            Almería   Abrucena  37.13305 -2.797098\n",
       "2     Andalucía            Almería       Adra  36.74807 -3.022522\n",
       "3     Andalucía            Almería  Albánchez  37.28710 -2.181163\n",
       "4     Andalucía            Almería  Alboloduy  37.03319 -2.621750\n",
       "...         ...                ...        ...       ...       ...\n",
       "8107   Valencia  Valencia/València     Xeresa  39.00910 -0.217992\n",
       "8108   Valencia  Valencia/València  Xirivella  39.46669 -0.427794\n",
       "8109   Valencia  Valencia/València     Yátova  39.38500 -0.808174\n",
       "8110   Valencia  Valencia/València  Yesa (La)  39.49916 -0.426125\n",
       "8111   Valencia  Valencia/València      Zarra  39.09138 -1.075068\n",
       "\n",
       "[8112 rows x 5 columns]"
      ]
     },
     "execution_count": 5,
     "metadata": {},
     "output_type": "execute_result"
    }
   ],
   "source": [
    "import pandas as pd\n",
    "df = pd.read_csv('data.csv')\n",
    "dfMun = pd.read_csv('municipios.csv')\n",
    "dfMun"
   ]
  },
  {
   "cell_type": "code",
   "execution_count": 27,
   "metadata": {},
   "outputs": [],
   "source": [
    "a = dfMun.Provincia.str.normalize('NFKD').str.encode('ascii', errors='ignore').str.decode('utf-8').str.upper().unique()"
   ]
  },
  {
   "cell_type": "code",
   "execution_count": 28,
   "metadata": {},
   "outputs": [
    {
     "data": {
      "text/plain": [
       "array(['ALMERIA', 'CADIZ', 'CORDOBA', 'GRANADA', 'HUELVA', 'JAEN',\n",
       "       'MALAGA', 'SEVILLA', 'HUESCA', 'TERUEL', 'ZARAGOZA', 'ASTURIAS',\n",
       "       'LAS PALMAS', 'SANTA CRUZ DE TENERIFE', 'CANTABRIA', 'ALBACETE',\n",
       "       'CIUDAD REAL', 'CUENCA', 'GUADALAJARA', 'TOLEDO', 'AVILA',\n",
       "       'BURGOS', 'LEON', 'PALENCIA', 'SALAMANCA', 'SEGOVIA', 'SORIA',\n",
       "       'VALLADOLID', 'ZAMORA', 'BARCELONA', 'GIRONA', 'LLEIDA',\n",
       "       'TARRAGONA', 'CEUTA', 'MELILLA', 'BADAJOZ', 'CACERES', 'A CORUNA',\n",
       "       'LUGO', 'OURENSE', 'PONTEVEDRA', 'ILLES BALEARS', 'LA RIOJA',\n",
       "       'MADRID', 'MURCIA', 'NAVARRA', 'ALAVA', 'GUIPUZCOA', 'VIZCAYA',\n",
       "       'ALICANTE/ALACANT', 'CASTELLON/CASTELLO', 'VALENCIA/VALENCIA'],\n",
       "      dtype=object)"
      ]
     },
     "execution_count": 28,
     "metadata": {},
     "output_type": "execute_result"
    }
   ],
   "source": [
    "a"
   ]
  },
  {
   "cell_type": "code",
   "execution_count": 25,
   "metadata": {},
   "outputs": [],
   "source": [
    "b = df.Provincia_FREQ.str.normalize('NFKD').str.encode('ascii', errors='ignore').str.decode('utf-8').str.upper().unique()"
   ]
  },
  {
   "cell_type": "code",
   "execution_count": 26,
   "metadata": {},
   "outputs": [
    {
     "data": {
      "text/plain": [
       "array(['ARABA/ALAVA', 'BIZKAIA', 'GIPUZKOA', 'RIOJA (LA)', 'NAVARRA',\n",
       "       'BURGOS', 'CANTABRIA', 'MADRID', 'ZARAGOZA', 'BARCELONA', 'GIRONA',\n",
       "       'LLEIDA', 'TARRAGONA', 'CASTELLON/CASTELLO', 'HUESCA',\n",
       "       'ILLES BALEARS', 'CORUNA (A)', 'LUGO', 'OURENSE', 'PONTEVEDRA',\n",
       "       'LEON', 'ASTURIAS', 'ZAMORA', 'ALMERIA', 'CADIZ', 'MURCIA',\n",
       "       'GRANADA', 'SEVILLA', 'BADAJOZ', 'MALAGA', 'CORDOBA', 'HUELVA',\n",
       "       'JAEN', 'MELILLA', 'ALICANTE/ALACANT', 'VALENCIA/VALENCIA',\n",
       "       'ALBACETE', 'TERUEL', 'CUENCA', 'GUADALAJARA', 'SORIA', 'TOLEDO',\n",
       "       'AVILA', 'CACERES', 'CIUDAD REAL', 'PALMAS (LAS)',\n",
       "       'SANTA CRUZ DE TENERIFE', 'SEGOVIA', 'PALENCIA', 'SALAMANCA',\n",
       "       'VALLADOLID'], dtype=object)"
      ]
     },
     "execution_count": 26,
     "metadata": {},
     "output_type": "execute_result"
    }
   ],
   "source": [
    "b"
   ]
  },
  {
   "cell_type": "code",
   "execution_count": 24,
   "metadata": {},
   "outputs": [
    {
     "data": {
      "text/plain": [
       "2842"
      ]
     },
     "execution_count": 24,
     "metadata": {},
     "output_type": "execute_result"
    }
   ],
   "source": [
    "len([mun for mun in b if mun in a])"
   ]
  },
  {
   "cell_type": "code",
   "execution_count": 3,
   "metadata": {},
   "outputs": [
    {
     "data": {
      "text/html": [
       "<div style=\"width:100%;\"><div style=\"position:relative;width:100%;height:0;padding-bottom:60%;\"><span style=\"color:#565656\">Make this Notebook Trusted to load map: File -> Trust Notebook</span><iframe srcdoc=\"&lt;!DOCTYPE html&gt;\n",
       "&lt;html&gt;\n",
       "&lt;head&gt;\n",
       "    \n",
       "    &lt;meta http-equiv=&quot;content-type&quot; content=&quot;text/html; charset=UTF-8&quot; /&gt;\n",
       "    \n",
       "        &lt;script&gt;\n",
       "            L_NO_TOUCH = false;\n",
       "            L_DISABLE_3D = false;\n",
       "        &lt;/script&gt;\n",
       "    \n",
       "    &lt;style&gt;html, body {width: 100%;height: 100%;margin: 0;padding: 0;}&lt;/style&gt;\n",
       "    &lt;style&gt;#map {position:absolute;top:0;bottom:0;right:0;left:0;}&lt;/style&gt;\n",
       "    &lt;script src=&quot;https://cdn.jsdelivr.net/npm/leaflet@1.9.3/dist/leaflet.js&quot;&gt;&lt;/script&gt;\n",
       "    &lt;script src=&quot;https://code.jquery.com/jquery-1.12.4.min.js&quot;&gt;&lt;/script&gt;\n",
       "    &lt;script src=&quot;https://cdn.jsdelivr.net/npm/bootstrap@5.2.2/dist/js/bootstrap.bundle.min.js&quot;&gt;&lt;/script&gt;\n",
       "    &lt;script src=&quot;https://cdnjs.cloudflare.com/ajax/libs/Leaflet.awesome-markers/2.0.2/leaflet.awesome-markers.js&quot;&gt;&lt;/script&gt;\n",
       "    &lt;link rel=&quot;stylesheet&quot; href=&quot;https://cdn.jsdelivr.net/npm/leaflet@1.9.3/dist/leaflet.css&quot;/&gt;\n",
       "    &lt;link rel=&quot;stylesheet&quot; href=&quot;https://cdn.jsdelivr.net/npm/bootstrap@5.2.2/dist/css/bootstrap.min.css&quot;/&gt;\n",
       "    &lt;link rel=&quot;stylesheet&quot; href=&quot;https://netdna.bootstrapcdn.com/bootstrap/3.0.0/css/bootstrap.min.css&quot;/&gt;\n",
       "    &lt;link rel=&quot;stylesheet&quot; href=&quot;https://cdn.jsdelivr.net/npm/@fortawesome/fontawesome-free@6.2.0/css/all.min.css&quot;/&gt;\n",
       "    &lt;link rel=&quot;stylesheet&quot; href=&quot;https://cdnjs.cloudflare.com/ajax/libs/Leaflet.awesome-markers/2.0.2/leaflet.awesome-markers.css&quot;/&gt;\n",
       "    &lt;link rel=&quot;stylesheet&quot; href=&quot;https://cdn.jsdelivr.net/gh/python-visualization/folium/folium/templates/leaflet.awesome.rotate.min.css&quot;/&gt;\n",
       "    \n",
       "            &lt;meta name=&quot;viewport&quot; content=&quot;width=device-width,\n",
       "                initial-scale=1.0, maximum-scale=1.0, user-scalable=no&quot; /&gt;\n",
       "            &lt;style&gt;\n",
       "                #map_fd666a5aa03066aa44edfa3a38abfc29 {\n",
       "                    position: relative;\n",
       "                    width: 100.0%;\n",
       "                    height: 100.0%;\n",
       "                    left: 0.0%;\n",
       "                    top: 0.0%;\n",
       "                }\n",
       "                .leaflet-container { font-size: 1rem; }\n",
       "            &lt;/style&gt;\n",
       "        \n",
       "&lt;/head&gt;\n",
       "&lt;body&gt;\n",
       "    \n",
       "    \n",
       "            &lt;div class=&quot;folium-map&quot; id=&quot;map_fd666a5aa03066aa44edfa3a38abfc29&quot; &gt;&lt;/div&gt;\n",
       "        \n",
       "&lt;/body&gt;\n",
       "&lt;script&gt;\n",
       "    \n",
       "    \n",
       "            var map_fd666a5aa03066aa44edfa3a38abfc29 = L.map(\n",
       "                &quot;map_fd666a5aa03066aa44edfa3a38abfc29&quot;,\n",
       "                {\n",
       "                    center: [40.416775, -3.70379],\n",
       "                    crs: L.CRS.EPSG3857,\n",
       "                    zoom: 6,\n",
       "                    zoomControl: true,\n",
       "                    preferCanvas: false,\n",
       "                }\n",
       "            );\n",
       "\n",
       "            \n",
       "\n",
       "        \n",
       "    \n",
       "            var tile_layer_21f11ab47053822618c9d612a14016ff = L.tileLayer(\n",
       "                &quot;https://{s}.tile.openstreetmap.org/{z}/{x}/{y}.png&quot;,\n",
       "                {&quot;attribution&quot;: &quot;Data by \\u0026copy; \\u003ca target=\\&quot;_blank\\&quot; href=\\&quot;http://openstreetmap.org\\&quot;\\u003eOpenStreetMap\\u003c/a\\u003e, under \\u003ca target=\\&quot;_blank\\&quot; href=\\&quot;http://www.openstreetmap.org/copyright\\&quot;\\u003eODbL\\u003c/a\\u003e.&quot;, &quot;detectRetina&quot;: false, &quot;maxNativeZoom&quot;: 18, &quot;maxZoom&quot;: 18, &quot;minZoom&quot;: 0, &quot;noWrap&quot;: false, &quot;opacity&quot;: 1, &quot;subdomains&quot;: &quot;abc&quot;, &quot;tms&quot;: false}\n",
       "            ).addTo(map_fd666a5aa03066aa44edfa3a38abfc29);\n",
       "        \n",
       "&lt;/script&gt;\n",
       "&lt;/html&gt;\" style=\"position:absolute;width:100%;height:100%;left:0;top:0;border:none !important;\" allowfullscreen webkitallowfullscreen mozallowfullscreen></iframe></div></div>"
      ],
      "text/plain": [
       "<folium.folium.Map at 0x10f73fa60>"
      ]
     },
     "execution_count": 3,
     "metadata": {},
     "output_type": "execute_result"
    }
   ],
   "source": [
    "m = folium.Map(location=[40.416775, -3.703790], zoom_start=6, tiles=\"OpenStreetMap\")\n",
    "m"
   ]
  }
 ],
 "metadata": {
  "kernelspec": {
   "display_name": "capstoneEnv",
   "language": "python",
   "name": "python3"
  },
  "language_info": {
   "codemirror_mode": {
    "name": "ipython",
    "version": 3
   },
   "file_extension": ".py",
   "mimetype": "text/x-python",
   "name": "python",
   "nbconvert_exporter": "python",
   "pygments_lexer": "ipython3",
   "version": "3.9.10"
  },
  "orig_nbformat": 4,
  "vscode": {
   "interpreter": {
    "hash": "447a213c1dca5c8e3b2138d2b6c4976234be39b75cc03a56956dc62d814628e1"
   }
  }
 },
 "nbformat": 4,
 "nbformat_minor": 2
}
