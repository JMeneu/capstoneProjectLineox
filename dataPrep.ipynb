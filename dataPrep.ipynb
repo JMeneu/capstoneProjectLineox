{
 "cells": [
  {
   "cell_type": "markdown",
   "metadata": {},
   "source": [
    "# Data Cleaning\n",
    "\n",
    "### Import\n",
    "- Data is given with NaN Values when rows are repeated, so fill these with previous value. Pandas method = 'ffill'.\n",
    "- Convert Frequency values to floats.\n",
    "- Convert dates to datetime"
   ]
  },
  {
   "cell_type": "code",
   "execution_count": 1,
   "metadata": {},
   "outputs": [
    {
     "data": {
      "text/html": [
       "<div>\n",
       "<style scoped>\n",
       "    .dataframe tbody tr th:only-of-type {\n",
       "        vertical-align: middle;\n",
       "    }\n",
       "\n",
       "    .dataframe tbody tr th {\n",
       "        vertical-align: top;\n",
       "    }\n",
       "\n",
       "    .dataframe thead th {\n",
       "        text-align: right;\n",
       "    }\n",
       "</style>\n",
       "<table border=\"1\" class=\"dataframe\">\n",
       "  <thead>\n",
       "    <tr style=\"text-align: right;\">\n",
       "      <th></th>\n",
       "      <th>Comunidad</th>\n",
       "      <th>Ref</th>\n",
       "      <th>Titular</th>\n",
       "      <th>NIF/CIF</th>\n",
       "      <th>DomicilioSocial</th>\n",
       "      <th>Localidad</th>\n",
       "      <th>Provincia_RL</th>\n",
       "      <th>CP</th>\n",
       "      <th>FConcesion</th>\n",
       "      <th>FCaducidad</th>\n",
       "      <th>SusceptibleConcesion</th>\n",
       "      <th>SusceptibleMutualizacion</th>\n",
       "      <th>Transferencia</th>\n",
       "      <th>Provincia_FREQ</th>\n",
       "      <th>Municipio</th>\n",
       "      <th>Frecuencia</th>\n",
       "      <th>Unit</th>\n",
       "    </tr>\n",
       "  </thead>\n",
       "  <tbody>\n",
       "    <tr>\n",
       "      <th>0</th>\n",
       "      <td>PAÍS VASCO</td>\n",
       "      <td>BIBI-0700268</td>\n",
       "      <td>ITELAZPI,S.A.</td>\n",
       "      <td>A95282216</td>\n",
       "      <td>CL TEKNOLOGI ELKARTEGIA, EDIFICIO 101</td>\n",
       "      <td>ZAMUDIO</td>\n",
       "      <td>BIZKAIA</td>\n",
       "      <td>48170</td>\n",
       "      <td>2007-11-07</td>\n",
       "      <td>2027-12-31</td>\n",
       "      <td>NaN</td>\n",
       "      <td>NaN</td>\n",
       "      <td>NaN</td>\n",
       "      <td>ARABA/ÁLAVA</td>\n",
       "      <td>AMURRIO</td>\n",
       "      <td>22074.5</td>\n",
       "      <td>MHz</td>\n",
       "    </tr>\n",
       "    <tr>\n",
       "      <th>1</th>\n",
       "      <td>PAÍS VASCO</td>\n",
       "      <td>BIBI-0700268</td>\n",
       "      <td>ITELAZPI,S.A.</td>\n",
       "      <td>A95282216</td>\n",
       "      <td>CL TEKNOLOGI ELKARTEGIA, EDIFICIO 101</td>\n",
       "      <td>ZAMUDIO</td>\n",
       "      <td>BIZKAIA</td>\n",
       "      <td>48170</td>\n",
       "      <td>2007-11-07</td>\n",
       "      <td>2027-12-31</td>\n",
       "      <td>NaN</td>\n",
       "      <td>NaN</td>\n",
       "      <td>NaN</td>\n",
       "      <td>BIZKAIA</td>\n",
       "      <td>ABADIÑO</td>\n",
       "      <td>12765.0</td>\n",
       "      <td>MHz</td>\n",
       "    </tr>\n",
       "    <tr>\n",
       "      <th>2</th>\n",
       "      <td>PAÍS VASCO</td>\n",
       "      <td>BIBI-0700268</td>\n",
       "      <td>ITELAZPI,S.A.</td>\n",
       "      <td>A95282216</td>\n",
       "      <td>CL TEKNOLOGI ELKARTEGIA, EDIFICIO 101</td>\n",
       "      <td>ZAMUDIO</td>\n",
       "      <td>BIZKAIA</td>\n",
       "      <td>48170</td>\n",
       "      <td>2007-11-07</td>\n",
       "      <td>2027-12-31</td>\n",
       "      <td>NaN</td>\n",
       "      <td>NaN</td>\n",
       "      <td>NaN</td>\n",
       "      <td>BIZKAIA</td>\n",
       "      <td>ABADIÑO</td>\n",
       "      <td>12793.0</td>\n",
       "      <td>MHz</td>\n",
       "    </tr>\n",
       "  </tbody>\n",
       "</table>\n",
       "</div>"
      ],
      "text/plain": [
       "    Comunidad           Ref        Titular    NIF/CIF  \\\n",
       "0  PAÍS VASCO  BIBI-0700268  ITELAZPI,S.A.  A95282216   \n",
       "1  PAÍS VASCO  BIBI-0700268  ITELAZPI,S.A.  A95282216   \n",
       "2  PAÍS VASCO  BIBI-0700268  ITELAZPI,S.A.  A95282216   \n",
       "\n",
       "                         DomicilioSocial Localidad Provincia_RL     CP  \\\n",
       "0  CL TEKNOLOGI ELKARTEGIA, EDIFICIO 101   ZAMUDIO      BIZKAIA  48170   \n",
       "1  CL TEKNOLOGI ELKARTEGIA, EDIFICIO 101   ZAMUDIO      BIZKAIA  48170   \n",
       "2  CL TEKNOLOGI ELKARTEGIA, EDIFICIO 101   ZAMUDIO      BIZKAIA  48170   \n",
       "\n",
       "  FConcesion FCaducidad SusceptibleConcesion SusceptibleMutualizacion  \\\n",
       "0 2007-11-07 2027-12-31                  NaN                      NaN   \n",
       "1 2007-11-07 2027-12-31                  NaN                      NaN   \n",
       "2 2007-11-07 2027-12-31                  NaN                      NaN   \n",
       "\n",
       "  Transferencia Provincia_FREQ Municipio  Frecuencia Unit  \n",
       "0           NaN    ARABA/ÁLAVA   AMURRIO     22074.5  MHz  \n",
       "1           NaN        BIZKAIA   ABADIÑO     12765.0  MHz  \n",
       "2           NaN        BIZKAIA   ABADIÑO     12793.0  MHz  "
      ]
     },
     "execution_count": 1,
     "metadata": {},
     "output_type": "execute_result"
    }
   ],
   "source": [
    "import pandas as pd\n",
    "\n",
    "df = pd.read_csv('rl_data.csv', dtype='object')\n",
    "\n",
    "# Fill NaN wih previous value for \"Provincia_FREQ\" and \"Municipio\"\n",
    "df['Provincia_FREQ'] = df['Provincia_FREQ'].fillna(method='ffill')\n",
    "df['Municipio'] = df['Municipio'].fillna(method='ffill')\n",
    "\n",
    "# \"Frecuencia\" to float\n",
    "df['Frecuencia'] = df['Frecuencia'].str.replace(\",\",\".\")\n",
    "df['Frecuencia'] = df['Frecuencia'].astype('float')\n",
    "\n",
    "#Put all frequencies in MhZ\n",
    "df.loc[ df['Unit'] == 'GHz', 'Frecuencia'] = df['Frecuencia']*1000\n",
    "df['Unit']= 'MHz'\n",
    "\n",
    "# \"Dates\" to DateTime\n",
    "df['FConcesion'] = pd.to_datetime(df['FConcesion'], format=\"%d/%m/%Y\", errors='coerce')\n",
    "df['FCaducidad'] = pd.to_datetime(df['FCaducidad'], format=\"%d/%m/%Y\", errors='coerce')\n",
    "\n",
    "df.head(3)"
   ]
  },
  {
   "cell_type": "markdown",
   "metadata": {},
   "source": [
    "We still have some NaN dates..."
   ]
  },
  {
   "cell_type": "code",
   "execution_count": 2,
   "metadata": {},
   "outputs": [
    {
     "data": {
      "text/plain": [
       "28"
      ]
     },
     "execution_count": 2,
     "metadata": {},
     "output_type": "execute_result"
    }
   ],
   "source": [
    "df.FConcesion.isna().sum()"
   ]
  },
  {
   "cell_type": "markdown",
   "metadata": {},
   "source": [
    "### Homogenize Companies's Data\n",
    "There are 190 different company IDs. Some of the companies' addresses, localities, etc have typos, so we need to homogenize it."
   ]
  },
  {
   "cell_type": "code",
   "execution_count": 3,
   "metadata": {},
   "outputs": [
    {
     "data": {
      "text/plain": [
       "190"
      ]
     },
     "execution_count": 3,
     "metadata": {},
     "output_type": "execute_result"
    }
   ],
   "source": [
    "len(df['NIF/CIF'].unique())"
   ]
  },
  {
   "cell_type": "markdown",
   "metadata": {},
   "source": [
    "1. Each feature is grouped by `NIF/CIF` to look for different values with a same ID.\n",
    "2. A diccionary is created in each case where:\n",
    "    - Key = 'NIF/ID'\n",
    "    - Value = The unique value for that ID that will be used for the feature\n",
    "3. Values are replaced in original DataFrame"
   ]
  },
  {
   "cell_type": "code",
   "execution_count": 4,
   "metadata": {},
   "outputs": [],
   "source": [
    "# Features to homogenize\n",
    "cols = ['Titular','DomicilioSocial','Localidad','Provincia_RL','CP']\n",
    "\n",
    "for col in cols:\n",
    "    # Group by NIF/CIF and \"Feature\". Sort by count of ocurrences (descending) to get the most used value of that feature for that ID.\n",
    "    dfGrouped = df.groupby(['NIF/CIF',col], as_index=False)['Ref'].count().sort_values(by=['NIF/CIF','Ref'], ascending=[True,False])\n",
    "\n",
    "    uniqueValues = {}\n",
    "    # For each row. If it's different to the previous: take it. Otherwise, go to the next.\n",
    "    for i,r in dfGrouped.iterrows():\n",
    "        if i == 0: \n",
    "            uniqueValues[r['NIF/CIF']] = r[col]\n",
    "            prev = r['NIF/CIF']\n",
    "        else:\n",
    "            if r['NIF/CIF'] != prev:\n",
    "                uniqueValues[r['NIF/CIF']] = r[col]\n",
    "                prev = r['NIF/CIF']\n",
    "            else: prev = r['NIF/CIF']\n",
    "    \n",
    "    # Replace all values of that Feature for each ID with the unique value chosen.\n",
    "    df[col] = df['NIF/CIF'].replace(uniqueValues)"
   ]
  },
  {
   "attachments": {},
   "cell_type": "markdown",
   "metadata": {},
   "source": [
    "### Rename Columns"
   ]
  },
  {
   "cell_type": "code",
   "execution_count": 6,
   "metadata": {},
   "outputs": [],
   "source": [
    "df.to_csv('data.csv',index=False)"
   ]
  }
 ],
 "metadata": {
  "kernelspec": {
   "display_name": "Python 3 (ipykernel)",
   "language": "python",
   "name": "python3"
  },
  "language_info": {
   "codemirror_mode": {
    "name": "ipython",
    "version": 3
   },
   "file_extension": ".py",
   "mimetype": "text/x-python",
   "name": "python",
   "nbconvert_exporter": "python",
   "pygments_lexer": "ipython3",
   "version": "3.9.10"
  },
  "vscode": {
   "interpreter": {
    "hash": "447a213c1dca5c8e3b2138d2b6c4976234be39b75cc03a56956dc62d814628e1"
   }
  }
 },
 "nbformat": 4,
 "nbformat_minor": 4
}
